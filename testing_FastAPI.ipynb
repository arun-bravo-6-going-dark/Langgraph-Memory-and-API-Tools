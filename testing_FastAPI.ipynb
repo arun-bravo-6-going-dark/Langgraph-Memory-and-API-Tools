{
 "cells": [
  {
   "cell_type": "code",
   "execution_count": 5,
   "metadata": {},
   "outputs": [
    {
     "name": "stdout",
     "output_type": "stream",
     "text": [
      "**Product Description for Pepsi:**\n",
      "\n",
      "Pepsi is a refreshing carbonated soft drink that has been a favorite among consumers for generations. Known for its bold and invigorating flavor, Pepsi offers a perfect balance of sweetness and carbonation, making it an ideal choice for quenching your thirst. Whether enjoyed on its own, paired with a meal, or used as a mixer in cocktails, Pepsi delivers a satisfying taste experience.\n",
      "\n",
      "- **Brand:** Pepsi\n",
      "- **Type:** Carbonated Soft Drink\n",
      "- **Flavor Profile:** Sweet, with a hint of citrus\n",
      "- **Serving Size:** 12 fl oz (355 mL)\n",
      "- **Packaging:** Available in cans and bottles\n",
      "\n",
      "Perfect for parties, picnics, or a casual day at home, Pepsi is the go-to beverage for those who appreciate a classic taste. Enjoy it chilled for the best experience!"
     ]
    }
   ],
   "source": [
    "import requests\n",
    "\n",
    "url = \"http://127.0.0.1:8001/api/v1/agent_main\"\n",
    "payload = {\n",
    "    \"user_message\": \"Write a description for the product.\",\n",
    "    \"thread_id\": \"thread_00002\",\n",
    "    \"user_id\": \"user_1\"\n",
    "}\n",
    "\n",
    "response = requests.post(url, json=payload, stream=True)\n",
    "\n",
    "# Print the response stream word by word\n",
    "for chunk in response.iter_content(chunk_size=None):\n",
    "    print(chunk.decode(\"utf-8\"), end=\"\")"
   ]
  },
  {
   "cell_type": "code",
   "execution_count": null,
   "metadata": {},
   "outputs": [],
   "source": []
  },
  {
   "cell_type": "code",
   "execution_count": 14,
   "metadata": {},
   "outputs": [
    {
     "name": "stdout",
     "output_type": "stream",
     "text": [
      "Arun Vignesh Nedunchezhian is identified as the Divisional Forest Officer (DFO) of Kaziranga National Park in Assam, India. He has been involved in wildlife conservation efforts and has contributed to the identification of new species in the park. Notably, he observed and reported on the presence of the small-clawed otter and the binturong, both of which were documented in Kaziranga. His work highlights the importance of wildlife monitoring and conservation in protecting biodiversity in the region.\n",
      "\n",
      "For more detailed information, you can refer to articles discussing his contributions to wildlife conservation in Kaziranga National Park."
     ]
    }
   ],
   "source": [
    "import requests\n",
    "\n",
    "url = \"http://Aiment-aimen-MKGeEv4zv2lF-545265192.ap-south-1.elb.amazonaws.com/api/v1/agent_main\"\n",
    "payload = {\n",
    "    \"user_message\": \"Do a search on the name Arun Vignesh Nedunchezhian\",\n",
    "    \"thread_id\": \"6767676767667767676\"\n",
    "}\n",
    "\n",
    "response = requests.post(url, json=payload, stream=True)\n",
    "\n",
    "# Print the response stream word by word\n",
    "for chunk in response.iter_content(chunk_size=None):\n",
    "    print(chunk.decode(\"utf-8\"), end=\"\")"
   ]
  },
  {
   "cell_type": "code",
   "execution_count": 3,
   "metadata": {},
   "outputs": [
    {
     "name": "stdout",
     "output_type": "stream",
     "text": [
      "<Response [200]>\n"
     ]
    }
   ],
   "source": [
    "print(response)"
   ]
  }
 ],
 "metadata": {
  "kernelspec": {
   "display_name": "Python 3",
   "language": "python",
   "name": "python3"
  },
  "language_info": {
   "codemirror_mode": {
    "name": "ipython",
    "version": 3
   },
   "file_extension": ".py",
   "mimetype": "text/x-python",
   "name": "python",
   "nbconvert_exporter": "python",
   "pygments_lexer": "ipython3",
   "version": "3.10.15"
  }
 },
 "nbformat": 4,
 "nbformat_minor": 2
}
