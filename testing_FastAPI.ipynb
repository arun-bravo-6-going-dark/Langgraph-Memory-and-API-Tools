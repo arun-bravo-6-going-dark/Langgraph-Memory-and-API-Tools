{
 "cells": [
  {
   "cell_type": "code",
   "execution_count": 7,
   "metadata": {},
   "outputs": [
    {
     "name": "stdout",
     "output_type": "stream",
     "text": [
      "The price of Kinley water bottles in India is as follows:\n",
      "\n",
      "- **500 ml PET Bottle**: ₹10\n",
      "- **1 Liter PET Bottle**: ₹20\n",
      "\n",
      "You can find more details on various platforms like IndiaMART and other online retailers."
     ]
    }
   ],
   "source": [
    "import requests\n",
    "\n",
    "url = \"http://127.0.0.1:8001/api/v1/agent_main\"\n",
    "payload = {\n",
    "    \"user_message\": \"What's the price of a Kinley water bottle in India.\",\n",
    "    \"thread_id\": \"thread_000010\",\n",
    "    \"user_id\": \"user_10\"\n",
    "}\n",
    "\n",
    "response = requests.post(url, json=payload, stream=True)\n",
    "\n",
    "# Print the response stream word by word\n",
    "for chunk in response.iter_content(chunk_size=None):\n",
    "    print(chunk.decode(\"utf-8\"), end=\"\")"
   ]
  },
  {
   "cell_type": "code",
   "execution_count": 8,
   "metadata": {},
   "outputs": [
    {
     "name": "stdout",
     "output_type": "stream",
     "text": [
      "I have successfully added the following products to the inventory:\n",
      "\n",
      "- **Kinley 500ml Water Bottle**: 50 bottles (Product ID: 1)\n",
      "- **Kinley 1 Liter Water Bottle**: 20 bottles (Product ID: 2)"
     ]
    }
   ],
   "source": [
    "import requests\n",
    "\n",
    "url = \"http://127.0.0.1:8001/api/v1/agent_main\"\n",
    "payload = {\n",
    "    \"user_message\": \"Add 50 bottles of 500ml and 20 bottles of 1 liter to the inventory.\",\n",
    "    \"thread_id\": \"thread_000010\",\n",
    "    \"user_id\": \"user_10\"\n",
    "}\n",
    "\n",
    "response = requests.post(url, json=payload, stream=True)\n",
    "\n",
    "# Print the response stream word by word\n",
    "for chunk in response.iter_content(chunk_size=None):\n",
    "    print(chunk.decode(\"utf-8\"), end=\"\")"
   ]
  },
  {
   "cell_type": "code",
   "execution_count": 9,
   "metadata": {},
   "outputs": [
    {
     "name": "stdout",
     "output_type": "stream",
     "text": [
      "Here is the list of all products in the inventory:\n",
      "\n",
      "1. **Kinley 500ml Water Bottle**\n",
      "   - Price: ₹10\n",
      "   - Quantity: 50\n",
      "\n",
      "2. **Kinley 1 Liter Water Bottle**\n",
      "   - Price: ₹20\n",
      "   - Quantity: 20"
     ]
    }
   ],
   "source": [
    "import requests\n",
    "\n",
    "url = \"http://127.0.0.1:8001/api/v1/agent_main\"\n",
    "payload = {\n",
    "    \"user_message\": \"List all the products.\",\n",
    "    \"thread_id\": \"thread_000010\",\n",
    "    \"user_id\": \"user_11\"\n",
    "}\n",
    "\n",
    "response = requests.post(url, json=payload, stream=True)\n",
    "\n",
    "# Print the response stream word by word\n",
    "for chunk in response.iter_content(chunk_size=None):\n",
    "    print(chunk.decode(\"utf-8\"), end=\"\")"
   ]
  }
 ],
 "metadata": {
  "kernelspec": {
   "display_name": "Python 3",
   "language": "python",
   "name": "python3"
  },
  "language_info": {
   "codemirror_mode": {
    "name": "ipython",
    "version": 3
   },
   "file_extension": ".py",
   "mimetype": "text/x-python",
   "name": "python",
   "nbconvert_exporter": "python",
   "pygments_lexer": "ipython3",
   "version": "3.10.15"
  }
 },
 "nbformat": 4,
 "nbformat_minor": 2
}
